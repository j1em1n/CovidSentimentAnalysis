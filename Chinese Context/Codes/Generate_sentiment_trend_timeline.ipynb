{
 "cells": [
  {
   "cell_type": "code",
   "execution_count": 2,
   "metadata": {},
   "outputs": [
    {
     "ename": "SyntaxError",
     "evalue": "only single target (not list) can be annotated (<ipython-input-2-5f36a103d8e6>, line 3)",
     "output_type": "error",
     "traceback": [
      "\u001b[1;36m  File \u001b[1;32m\"<ipython-input-2-5f36a103d8e6>\"\u001b[1;36m, line \u001b[1;32m3\u001b[0m\n\u001b[1;33m    [\"negative\",\"neutral\",\"positive\"]:[69.71, 1.56, 21.83]\u001b[0m\n\u001b[1;37m                                                          ^\u001b[0m\n\u001b[1;31mSyntaxError\u001b[0m\u001b[1;31m:\u001b[0m only single target (not list) can be annotated\n"
     ]
    }
   ],
   "source": [
    "# #=============社会类================\n",
    "# # 离开武汉 1.26\n",
    "# [\"negative\",\"neutral\",\"positive\"]:[69.71, 1.56, 21.83]\n",
    "# # 高校开学 1.31\n",
    "# [67.09, 4.49, 34.09]\n",
    "# # ==================\n",
    "# #景区爆满 2.23\n",
    "# [82.26, 1.29, 13.68]\n",
    "# # 春节假期延长 2.7\n",
    "# [77.2803, 1.6584, 18.408]\n",
    "\n",
    "# #留学生回国 3.16\n",
    "# [67.0213, 2.1277, 29.7872]\n",
    "# #张文宏预测 3.4\n",
    "# [44.9074, 2.7778, 47.2222]\n",
    "\n",
    "# #===========经济类==============\n",
    "# # 初一票房 1.26\n",
    "# [75.21, 2.35, 20.68]\n",
    "# # 春运 1.23\n",
    "# [57.69, 2.29, 33.04]\n",
    "\n",
    "# # 双黄连 2.1\n",
    "# [66.9192, 1.7677, 20.7071]\n",
    "# # 口罩价格 2.24\n",
    "# [90.3226, 3.2258, 6.4516]\n",
    "\n",
    "# #美股熔断 3.19\n",
    "# [66.2531, 4.2184, 27.0471]\n",
    "# # 武汉奶茶 3.27\n",
    "# [46.2745, 2.7451, 42.7451]\n",
    "# #=============政治类===========\n",
    "# # 新加坡航班 1.25\n",
    "# [78.56, 3.39, 14.45]\n",
    "# # 公共场合佩戴口罩 1.22\n",
    "# [63.28, 3.89, 26.78]\n",
    "\n",
    "# # 李文亮去世 2.8\n",
    "# [57.38, 1.44, 33.37]\n",
    "# # 排查武汉病人 2.10\n",
    "# [76.5417, 1.451, 17.4123]\n",
    "\n",
    "# #特朗普3.20\n",
    "\n",
    "# #外国人居住 3.26\n",
    "# [40.7643, 1.9108, 50.3185]\n",
    "\n"
   ]
  },
  {
   "cell_type": "code",
   "execution_count": 3,
   "metadata": {},
   "outputs": [],
   "source": [
    "import pandas as pd\n",
    "import numpy as py"
   ]
  },
  {
   "cell_type": "code",
   "execution_count": 83,
   "metadata": {},
   "outputs": [],
   "source": [
    "econs = {'23 Jan':[57.69, 2.29, 33.04],'26 Jan':[75.21, 2.35, 20.68],'1 Feb':[72.9192, 1.7677, 4.7071],'24 Feb':[90.3226, 3.2258, 6.4516],'19 Mar':[66.2531, 4.2184, 27.0471],'27 Mar':[46.2745, 2.7451, 42.7451]}"
   ]
  },
  {
   "cell_type": "code",
   "execution_count": 38,
   "metadata": {},
   "outputs": [],
   "source": [
    "social = {'26 Jan':[69.71, 1.56, 21.83],'31 Jan':[67.09, 4.49, 34.09],'7 Feb':[77.28, 1.65, 18.4],'23 Feb':[82.26, 1.29, 13.68],'4 Mar':[67.0213, 2.1277, 29.7872],'16 Mar':[44.9074, 2.7778, 47.2222]}"
   ]
  },
  {
   "cell_type": "code",
   "execution_count": 89,
   "metadata": {},
   "outputs": [],
   "source": [
    "political = {'22 Jan':[63.28, 3.89, 26.78],'25 Jan':[78.56, 3.39, 14.45],'8 Feb':[87.38, 1.44, 12.37],'10 Feb':[76.5417, 1.451, 17.4123],'20 Mar':[64.8069, 4.2918, 24.8927],'26 Mar':[40.7643, 1.9108, 50.3185]}\n"
   ]
  },
  {
   "cell_type": "code",
   "execution_count": 90,
   "metadata": {},
   "outputs": [
    {
     "data": {
      "text/html": [
       "<div>\n",
       "<style scoped>\n",
       "    .dataframe tbody tr th:only-of-type {\n",
       "        vertical-align: middle;\n",
       "    }\n",
       "\n",
       "    .dataframe tbody tr th {\n",
       "        vertical-align: top;\n",
       "    }\n",
       "\n",
       "    .dataframe thead th {\n",
       "        text-align: right;\n",
       "    }\n",
       "</style>\n",
       "<table border=\"1\" class=\"dataframe\">\n",
       "  <thead>\n",
       "    <tr style=\"text-align: right;\">\n",
       "      <th></th>\n",
       "      <th>22 Jan</th>\n",
       "      <th>25 Jan</th>\n",
       "      <th>8 Feb</th>\n",
       "      <th>10 Feb</th>\n",
       "      <th>20 Mar</th>\n",
       "      <th>26 Mar</th>\n",
       "    </tr>\n",
       "  </thead>\n",
       "  <tbody>\n",
       "    <tr>\n",
       "      <th>neg</th>\n",
       "      <td>63.28</td>\n",
       "      <td>78.56</td>\n",
       "      <td>87.38</td>\n",
       "      <td>76.5417</td>\n",
       "      <td>64.8069</td>\n",
       "      <td>40.7643</td>\n",
       "    </tr>\n",
       "    <tr>\n",
       "      <th>neu</th>\n",
       "      <td>3.89</td>\n",
       "      <td>3.39</td>\n",
       "      <td>1.44</td>\n",
       "      <td>1.4510</td>\n",
       "      <td>4.2918</td>\n",
       "      <td>1.9108</td>\n",
       "    </tr>\n",
       "    <tr>\n",
       "      <th>pos</th>\n",
       "      <td>26.78</td>\n",
       "      <td>14.45</td>\n",
       "      <td>12.37</td>\n",
       "      <td>17.4123</td>\n",
       "      <td>24.8927</td>\n",
       "      <td>50.3185</td>\n",
       "    </tr>\n",
       "  </tbody>\n",
       "</table>\n",
       "</div>"
      ],
      "text/plain": [
       "     22 Jan  25 Jan  8 Feb   10 Feb   20 Mar   26 Mar\n",
       "neg   63.28   78.56  87.38  76.5417  64.8069  40.7643\n",
       "neu    3.89    3.39   1.44   1.4510   4.2918   1.9108\n",
       "pos   26.78   14.45  12.37  17.4123  24.8927  50.3185"
      ]
     },
     "execution_count": 90,
     "metadata": {},
     "output_type": "execute_result"
    }
   ],
   "source": [
    "political_trend=pd.DataFrame(political, index=['neg','neu','pos'])\n",
    "political_trend"
   ]
  },
  {
   "cell_type": "code",
   "execution_count": 91,
   "metadata": {},
   "outputs": [],
   "source": [
    "timeline=list(political.keys())"
   ]
  },
  {
   "cell_type": "code",
   "execution_count": 92,
   "metadata": {},
   "outputs": [],
   "source": [
    "neg=list(political_trend.loc['neg'])\n",
    "pos=list(political_trend.loc['pos'])\n",
    "neu=list(political_trend.loc['neu'])"
   ]
  },
  {
   "cell_type": "code",
   "execution_count": 95,
   "metadata": {},
   "outputs": [
    {
     "data": {
      "text/plain": [
       "'C:\\\\Users\\\\Zhengnan\\\\IS434 Project\\\\political_incident_sentiment_trend.html'"
      ]
     },
     "execution_count": 95,
     "metadata": {},
     "output_type": "execute_result"
    }
   ],
   "source": [
    "# incident\n",
    "import pyecharts.options as opts\n",
    "from pyecharts.charts import Line\n",
    "\n",
    "line=Line()\n",
    "line.add_xaxis(timeline) #x axis\n",
    "line.add_yaxis(\"positive\", pos,is_smooth = True)\n",
    "line.add_yaxis(\"negative\", neg,is_smooth = True)\n",
    "line.add_yaxis(\"neutral\", neu,is_smooth = True)\n",
    "line.set_global_opts(\n",
    "    xaxis_opts=opts.AxisOpts(\n",
    "        axislabel_opts=opts.LabelOpts(rotate=-40),\n",
    "                            ),\n",
    "    yaxis_opts=opts.AxisOpts(name=\"Percentage/%\"),\n",
    "    title_opts=opts.TitleOpts(title=\"Political Sentiment Percentage\"))        #title name\n",
    "\n",
    "# line.render_notebook()\n",
    "line.render('political_incident_sentiment_trend.html')"
   ]
  },
  {
   "cell_type": "code",
   "execution_count": null,
   "metadata": {},
   "outputs": [],
   "source": []
  },
  {
   "cell_type": "code",
   "execution_count": null,
   "metadata": {},
   "outputs": [],
   "source": []
  }
 ],
 "metadata": {
  "kernelspec": {
   "display_name": "Python 3",
   "language": "python",
   "name": "python3"
  },
  "language_info": {
   "codemirror_mode": {
    "name": "ipython",
    "version": 3
   },
   "file_extension": ".py",
   "mimetype": "text/x-python",
   "name": "python",
   "nbconvert_exporter": "python",
   "pygments_lexer": "ipython3",
   "version": "3.7.3"
  }
 },
 "nbformat": 4,
 "nbformat_minor": 2
}
