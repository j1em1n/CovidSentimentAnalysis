{
 "cells": [
  {
   "cell_type": "code",
   "execution_count": 1,
   "metadata": {},
   "outputs": [],
   "source": [
    "import pandas as pd\n",
    "import numpy as np\n",
    "from snownlp import sentiment, SnowNLP\n",
    "import jieba"
   ]
  },
  {
   "cell_type": "code",
   "execution_count": 2,
   "metadata": {},
   "outputs": [],
   "source": [
    "from aip import AipNlp\n",
    "\n",
    "\"\"\"APPID AK SK \"\"\"\n",
    "APP_ID = '19110692'\n",
    "API_KEY = 'hRfsROHtraDKnffdXSeN3ADG'\n",
    "SECRET_KEY = 'jdiPXp3pLVi6S4utmGvu6IG9Gk6oxu3w'\n",
    "\n",
    "client = AipNlp(APP_ID, API_KEY, SECRET_KEY)"
   ]
  },
  {
   "cell_type": "code",
   "execution_count": 87,
   "metadata": {},
   "outputs": [],
   "source": [
    "# prepare stopwords as a list\n",
    "stop_words = jieba.load_userdict(\"stop_words\")\n",
    "stopwords=pd.read_csv('stop_words',index_col=False,quoting=3,sep=\"\\t\",names=['stopword'], encoding='utf-8')\n",
    "stopwords=stopwords['stopword'].values\n",
    "stopwords = stopwords.tolist()"
   ]
  },
  {
   "cell_type": "code",
   "execution_count": 178,
   "metadata": {},
   "outputs": [],
   "source": [
    "incident = pd.read_csv(\"Comments_Dataset_Mar/trump.csv\")\n",
    "# incident=incident[:601]"
   ]
  },
  {
   "cell_type": "code",
   "execution_count": 179,
   "metadata": {},
   "outputs": [],
   "source": [
    "columns = ['博文网址','发帖子人','博文发布时间','评论数','来自','转发数','点赞数','博文内容','博文图片','博文视频','评论者','二级评论人','二级评论时间','二级评论内容']\n",
    "incident.drop(columns, inplace=True, axis=1)\n",
    "incident.columns= ['comment_content','comment_time','no_of_likes']\n",
    "incident.fillna(value='无',inplace=True)"
   ]
  },
  {
   "cell_type": "code",
   "execution_count": 180,
   "metadata": {},
   "outputs": [
    {
     "data": {
      "text/html": [
       "<div>\n",
       "<style scoped>\n",
       "    .dataframe tbody tr th:only-of-type {\n",
       "        vertical-align: middle;\n",
       "    }\n",
       "\n",
       "    .dataframe tbody tr th {\n",
       "        vertical-align: top;\n",
       "    }\n",
       "\n",
       "    .dataframe thead th {\n",
       "        text-align: right;\n",
       "    }\n",
       "</style>\n",
       "<table border=\"1\" class=\"dataframe\">\n",
       "  <thead>\n",
       "    <tr style=\"text-align: right;\">\n",
       "      <th></th>\n",
       "      <th>comment_content</th>\n",
       "      <th>comment_time</th>\n",
       "      <th>no_of_likes</th>\n",
       "    </tr>\n",
       "  </thead>\n",
       "  <tbody>\n",
       "    <tr>\n",
       "      <th>count</th>\n",
       "      <td>233</td>\n",
       "      <td>233</td>\n",
       "      <td>233</td>\n",
       "    </tr>\n",
       "    <tr>\n",
       "      <th>unique</th>\n",
       "      <td>211</td>\n",
       "      <td>152</td>\n",
       "      <td>149</td>\n",
       "    </tr>\n",
       "    <tr>\n",
       "      <th>top</th>\n",
       "      <td>图片评论¡评论配图</td>\n",
       "      <td>3月20日 07:28</td>\n",
       "      <td>无</td>\n",
       "    </tr>\n",
       "    <tr>\n",
       "      <th>freq</th>\n",
       "      <td>5</td>\n",
       "      <td>6</td>\n",
       "      <td>15</td>\n",
       "    </tr>\n",
       "  </tbody>\n",
       "</table>\n",
       "</div>"
      ],
      "text/plain": [
       "       comment_content comment_time no_of_likes\n",
       "count              233          233         233\n",
       "unique             211          152         149\n",
       "top          图片评论¡评论配图  3月20日 07:28           无\n",
       "freq                 5            6          15"
      ]
     },
     "execution_count": 180,
     "metadata": {},
     "output_type": "execute_result"
    }
   ],
   "source": [
    "incident.describe()"
   ]
  },
  {
   "cell_type": "code",
   "execution_count": 96,
   "metadata": {},
   "outputs": [],
   "source": [
    "def remove_stopwords(sentence):\n",
    "\n",
    "    segList = jieba.cut(sentence)\n",
    "    segResult = []\n",
    "    for w in segList:\n",
    "        segResult.append(w)\n",
    "\n",
    "    newSent = []\n",
    "    for word in segResult:\n",
    "        if word in stopwords:\n",
    "            # print \"stopword: %s\" % word\n",
    "            continue\n",
    "        else:\n",
    "            newSent.append(word)\n",
    "    return newSent"
   ]
  },
  {
   "cell_type": "code",
   "execution_count": 35,
   "metadata": {},
   "outputs": [],
   "source": [
    "# clean_comments = []\n",
    "# for comment in incident['comment_content']:\n",
    "#     string = ''\n",
    "#     for word in remove_stopwords(comment):\n",
    "#         string += word\n",
    "#     clean_comments.append(string)\n",
    "# incident['comments'] = clean_comments\n",
    "# # clean_comments"
   ]
  },
  {
   "cell_type": "code",
   "execution_count": 172,
   "metadata": {},
   "outputs": [
    {
     "data": {
      "text/html": [
       "<div>\n",
       "<style scoped>\n",
       "    .dataframe tbody tr th:only-of-type {\n",
       "        vertical-align: middle;\n",
       "    }\n",
       "\n",
       "    .dataframe tbody tr th {\n",
       "        vertical-align: top;\n",
       "    }\n",
       "\n",
       "    .dataframe thead th {\n",
       "        text-align: right;\n",
       "    }\n",
       "</style>\n",
       "<table border=\"1\" class=\"dataframe\">\n",
       "  <thead>\n",
       "    <tr style=\"text-align: right;\">\n",
       "      <th></th>\n",
       "      <th>comment_content</th>\n",
       "      <th>comment_time</th>\n",
       "      <th>no_of_likes</th>\n",
       "    </tr>\n",
       "  </thead>\n",
       "  <tbody>\n",
       "    <tr>\n",
       "      <th>0</th>\n",
       "      <td>同意，中国人回来没问题，外国友人这会儿就先别过来了。</td>\n",
       "      <td>3月26日 23:34</td>\n",
       "      <td>1291</td>\n",
       "    </tr>\n",
       "    <tr>\n",
       "      <th>1</th>\n",
       "      <td>今天27号出永居结果，要是废除这个新条例就更好了</td>\n",
       "      <td>3月27日 00:43</td>\n",
       "      <td>231</td>\n",
       "    </tr>\n",
       "    <tr>\n",
       "      <th>2</th>\n",
       "      <td>我终于看到这个信息了。就该对非本国籍人员进行统一管理</td>\n",
       "      <td>3月26日 23:34</td>\n",
       "      <td>803</td>\n",
       "    </tr>\n",
       "    <tr>\n",
       "      <th>3</th>\n",
       "      <td>这是我今天看到最高兴的事了</td>\n",
       "      <td>3月26日 23:35</td>\n",
       "      <td>18</td>\n",
       "    </tr>\n",
       "    <tr>\n",
       "      <th>4</th>\n",
       "      <td>主要是外国人太能瞎混了，严重不靠谱，实在招架不住了</td>\n",
       "      <td>3月26日 23:43</td>\n",
       "      <td>575</td>\n",
       "    </tr>\n",
       "  </tbody>\n",
       "</table>\n",
       "</div>"
      ],
      "text/plain": [
       "              comment_content comment_time no_of_likes\n",
       "0  同意，中国人回来没问题，外国友人这会儿就先别过来了。  3月26日 23:34        1291\n",
       "1    今天27号出永居结果，要是废除这个新条例就更好了  3月27日 00:43         231\n",
       "2  我终于看到这个信息了。就该对非本国籍人员进行统一管理  3月26日 23:34         803\n",
       "3               这是我今天看到最高兴的事了  3月26日 23:35          18\n",
       "4   主要是外国人太能瞎混了，严重不靠谱，实在招架不住了  3月26日 23:43         575"
      ]
     },
     "execution_count": 172,
     "metadata": {},
     "output_type": "execute_result"
    }
   ],
   "source": [
    "incident.head(5)"
   ]
  },
  {
   "cell_type": "code",
   "execution_count": 157,
   "metadata": {},
   "outputs": [],
   "source": [
    "# # update sentiments dictionary and train it \n",
    "# from snownlp import sentiment\n",
    "# sentiment.train('neg.txt', 'pos.txt')\n",
    "# sentiment.save('sentiment.marshal')"
   ]
  },
  {
   "cell_type": "code",
   "execution_count": 12,
   "metadata": {},
   "outputs": [],
   "source": [
    "# sentimentslist= []\n",
    "# for i in incident['comment_content'][:10]:\n",
    "#     s = SnowNLP(i)\n",
    "#     sentimentslist.append(s.sentiments)\n",
    "    \n",
    "#     result = []\n",
    "#     i = 0\n",
    "#     while i<len(sentimentslist):\n",
    "#         result.append(sentimentslist[i]-0.5)\n",
    "#         i = i + 1\n",
    "# result"
   ]
  },
  {
   "cell_type": "code",
   "execution_count": 181,
   "metadata": {},
   "outputs": [
    {
     "data": {
      "text/html": [
       "<div>\n",
       "<style scoped>\n",
       "    .dataframe tbody tr th:only-of-type {\n",
       "        vertical-align: middle;\n",
       "    }\n",
       "\n",
       "    .dataframe tbody tr th {\n",
       "        vertical-align: top;\n",
       "    }\n",
       "\n",
       "    .dataframe thead th {\n",
       "        text-align: right;\n",
       "    }\n",
       "</style>\n",
       "<table border=\"1\" class=\"dataframe\">\n",
       "  <thead>\n",
       "    <tr style=\"text-align: right;\">\n",
       "      <th></th>\n",
       "      <th>comment_content</th>\n",
       "      <th>comment_time</th>\n",
       "      <th>no_of_likes</th>\n",
       "      <th>sentiment_probability</th>\n",
       "      <th>sentiments_class</th>\n",
       "    </tr>\n",
       "  </thead>\n",
       "  <tbody>\n",
       "    <tr>\n",
       "      <th>0</th>\n",
       "      <td>确实，没有人比他更懂新冠了！</td>\n",
       "      <td>3月19日 23:01</td>\n",
       "      <td>177672</td>\n",
       "      <td>0.554862</td>\n",
       "      <td>0</td>\n",
       "    </tr>\n",
       "    <tr>\n",
       "      <th>1</th>\n",
       "      <td>确实，没有人比他更懂新冠了！</td>\n",
       "      <td>3月19日 23:01</td>\n",
       "      <td>177672</td>\n",
       "      <td>0.554862</td>\n",
       "      <td>0</td>\n",
       "    </tr>\n",
       "    <tr>\n",
       "      <th>2</th>\n",
       "      <td>2019年6月美国出现病毒肺炎死亡200多人的病例，症状同是发热咳嗽和肺部变白，特朗普说是电...</td>\n",
       "      <td>3月20日 07:38</td>\n",
       "      <td>24428</td>\n",
       "      <td>0.999664</td>\n",
       "      <td>0</td>\n",
       "    </tr>\n",
       "    <tr>\n",
       "      <th>3</th>\n",
       "      <td>他投的毒，他肯定最懂了</td>\n",
       "      <td>3月19日 23:18</td>\n",
       "      <td>18524</td>\n",
       "      <td>0.746926</td>\n",
       "      <td>0</td>\n",
       "    </tr>\n",
       "    <tr>\n",
       "      <th>4</th>\n",
       "      <td>愿病毒早日战胜特朗普</td>\n",
       "      <td>3月20日 07:46</td>\n",
       "      <td>12795</td>\n",
       "      <td>0.515194</td>\n",
       "      <td>1</td>\n",
       "    </tr>\n",
       "  </tbody>\n",
       "</table>\n",
       "</div>"
      ],
      "text/plain": [
       "                                     comment_content comment_time no_of_likes  \\\n",
       "0                                     确实，没有人比他更懂新冠了！  3月19日 23:01      177672   \n",
       "1                                     确实，没有人比他更懂新冠了！  3月19日 23:01      177672   \n",
       "2  2019年6月美国出现病毒肺炎死亡200多人的病例，症状同是发热咳嗽和肺部变白，特朗普说是电...  3月20日 07:38       24428   \n",
       "3                                        他投的毒，他肯定最懂了  3月19日 23:18       18524   \n",
       "4                                         愿病毒早日战胜特朗普  3月20日 07:46       12795   \n",
       "\n",
       "  sentiment_probability sentiments_class  \n",
       "0              0.554862                0  \n",
       "1              0.554862                0  \n",
       "2              0.999664                0  \n",
       "3              0.746926                0  \n",
       "4              0.515194                1  "
      ]
     },
     "execution_count": 181,
     "metadata": {},
     "output_type": "execute_result"
    }
   ],
   "source": [
    "sentimentslist = []\n",
    "sentimentsClass= []\n",
    "for comment in incident['comment_content']:\n",
    "    try:\n",
    "        reply=client.sentimentClassify(comment)['items']\n",
    "        sentimentslist.append(max(reply[0]['positive_prob'],reply[0]['negative_prob']))\n",
    "        sentimentsClass.append(reply[0]['sentiment'])\n",
    "    except:\n",
    "        sentimentslist.append('NaN')\n",
    "        sentimentsClass.append('NaN')\n",
    "        pass\n",
    "incident['sentiment_probability'] = sentimentslist\n",
    "incident['sentiments_class'] = sentimentsClass\n",
    "incident.head()\n",
    "# sentimentsClass"
   ]
  },
  {
   "cell_type": "code",
   "execution_count": 20,
   "metadata": {},
   "outputs": [],
   "source": [
    "# incident.to_csv(r'leave_wuhan_sentiments.csv', index = False,encoding='utf-8')"
   ]
  },
  {
   "cell_type": "code",
   "execution_count": 21,
   "metadata": {},
   "outputs": [],
   "source": [
    "# del incident['sentiments_score']"
   ]
  },
  {
   "cell_type": "code",
   "execution_count": 175,
   "metadata": {},
   "outputs": [],
   "source": [
    "# incident.head(20)"
   ]
  },
  {
   "cell_type": "code",
   "execution_count": 182,
   "metadata": {},
   "outputs": [],
   "source": [
    "total = incident['comment_content'].count()"
   ]
  },
  {
   "cell_type": "code",
   "execution_count": 183,
   "metadata": {},
   "outputs": [
    {
     "data": {
      "text/plain": [
       "[64.8069, 4.2918, 24.8927]"
      ]
     },
     "execution_count": 183,
     "metadata": {},
     "output_type": "execute_result"
    }
   ],
   "source": [
    "num_list = incident['sentiments_class'].value_counts(sort=False).tolist()\n",
    "percent_list = []\n",
    "for num in num_list:\n",
    "    percent_list.append(round(num/total*100,4))\n",
    "# econs_incident['sentiments_class'].value_counts(sort=False)\n",
    "percent_list=percent_list[:-1]\n",
    "incident['sentiments_class'].value_counts(sort=False)\n",
    "percent_list"
   ]
  },
  {
   "cell_type": "code",
   "execution_count": 101,
   "metadata": {},
   "outputs": [
    {
     "data": {
      "text/html": [
       "\n",
       "<script>\n",
       "    require.config({\n",
       "        paths: {\n",
       "            'echarts':'https://assets.pyecharts.org/assets/echarts.min'\n",
       "        }\n",
       "    });\n",
       "</script>\n",
       "\n",
       "        <div id=\"bfa9ec7c53af4239b59022168c626b99\" style=\"width:900px; height:500px;\"></div>\n",
       "\n",
       "<script>\n",
       "        require(['echarts'], function(echarts) {\n",
       "                var chart_bfa9ec7c53af4239b59022168c626b99 = echarts.init(\n",
       "                    document.getElementById('bfa9ec7c53af4239b59022168c626b99'), 'white', {renderer: 'canvas'});\n",
       "                var option_bfa9ec7c53af4239b59022168c626b99 = {\n",
       "    \"animation\": true,\n",
       "    \"animationThreshold\": 2000,\n",
       "    \"animationDuration\": 1000,\n",
       "    \"animationEasing\": \"cubicOut\",\n",
       "    \"animationDelay\": 0,\n",
       "    \"animationDurationUpdate\": 300,\n",
       "    \"animationEasingUpdate\": \"cubicOut\",\n",
       "    \"animationDelayUpdate\": 0,\n",
       "    \"color\": [\n",
       "        \"#c23531\",\n",
       "        \"#2f4554\",\n",
       "        \"#61a0a8\",\n",
       "        \"#d48265\",\n",
       "        \"#749f83\",\n",
       "        \"#ca8622\",\n",
       "        \"#bda29a\",\n",
       "        \"#6e7074\",\n",
       "        \"#546570\",\n",
       "        \"#c4ccd3\",\n",
       "        \"#f05b72\",\n",
       "        \"#ef5b9c\",\n",
       "        \"#f47920\",\n",
       "        \"#905a3d\",\n",
       "        \"#fab27b\",\n",
       "        \"#2a5caa\",\n",
       "        \"#444693\",\n",
       "        \"#726930\",\n",
       "        \"#b2d235\",\n",
       "        \"#6d8346\",\n",
       "        \"#ac6767\",\n",
       "        \"#1d953f\",\n",
       "        \"#6950a1\",\n",
       "        \"#918597\"\n",
       "    ],\n",
       "    \"series\": [\n",
       "        {\n",
       "            \"type\": \"pie\",\n",
       "            \"clockwise\": true,\n",
       "            \"data\": [\n",
       "                {\n",
       "                    \"name\": \"negative\",\n",
       "                    \"value\": 57.73\n",
       "                },\n",
       "                {\n",
       "                    \"name\": \"neutral\",\n",
       "                    \"value\": 7.27\n",
       "                },\n",
       "                {\n",
       "                    \"name\": \"positive\",\n",
       "                    \"value\": 31.82\n",
       "                }\n",
       "            ],\n",
       "            \"radius\": [\n",
       "                \"0%\",\n",
       "                \"75%\"\n",
       "            ],\n",
       "            \"center\": [\n",
       "                \"50%\",\n",
       "                \"50%\"\n",
       "            ],\n",
       "            \"label\": {\n",
       "                \"show\": true,\n",
       "                \"position\": \"top\",\n",
       "                \"margin\": 8,\n",
       "                \"formatter\": \"{b}: {c}%\"\n",
       "            },\n",
       "            \"rippleEffect\": {\n",
       "                \"show\": true,\n",
       "                \"brushType\": \"stroke\",\n",
       "                \"scale\": 2.5,\n",
       "                \"period\": 4\n",
       "            }\n",
       "        }\n",
       "    ],\n",
       "    \"legend\": [\n",
       "        {\n",
       "            \"data\": [\n",
       "                \"negative\",\n",
       "                \"neutral\",\n",
       "                \"positive\"\n",
       "            ],\n",
       "            \"selected\": {},\n",
       "            \"show\": true,\n",
       "            \"padding\": 5,\n",
       "            \"itemGap\": 10,\n",
       "            \"itemWidth\": 25,\n",
       "            \"itemHeight\": 14\n",
       "        }\n",
       "    ],\n",
       "    \"tooltip\": {\n",
       "        \"show\": true,\n",
       "        \"trigger\": \"item\",\n",
       "        \"triggerOn\": \"mousemove|click\",\n",
       "        \"axisPointer\": {\n",
       "            \"type\": \"line\"\n",
       "        },\n",
       "        \"textStyle\": {\n",
       "            \"fontSize\": 14\n",
       "        },\n",
       "        \"borderWidth\": 0\n",
       "    },\n",
       "    \"title\": [\n",
       "        {\n",
       "            \"text\": \"sentiment percentage\",\n",
       "            \"padding\": 5,\n",
       "            \"itemGap\": 10\n",
       "        }\n",
       "    ]\n",
       "};\n",
       "                chart_bfa9ec7c53af4239b59022168c626b99.setOption(option_bfa9ec7c53af4239b59022168c626b99);\n",
       "        });\n",
       "    </script>\n"
      ],
      "text/plain": [
       "<pyecharts.render.display.HTML at 0x19b70bd26a0>"
      ]
     },
     "execution_count": 101,
     "metadata": {},
     "output_type": "execute_result"
    }
   ],
   "source": [
    "def pie_base():\n",
    "    from pyecharts import options as opts\n",
    "    from pyecharts.charts import Page, Pie\n",
    "    v1=[\"negative\",\"neutral\",\"positive\"]\n",
    "    v2=percent_list\n",
    "    \n",
    "    c = (\n",
    "        Pie()\n",
    "        .add(\"\", [list(z) for z in zip(v1,v2)])\n",
    "        .set_global_opts(title_opts=opts.TitleOpts(title=\"sentiment percentage\"))\n",
    "        .set_series_opts(label_opts=opts.LabelOpts(formatter=\"{b}: {c}%\"))\n",
    "    )\n",
    "    return c\n",
    "pie_base().render_notebook()"
   ]
  },
  {
   "cell_type": "code",
   "execution_count": 16,
   "metadata": {},
   "outputs": [
    {
     "data": {
      "text/plain": [
       "'C:\\\\Users\\\\Zhengnan\\\\IS434 Project\\\\incident_sentiment_percent\\\\school_open_sentiment.html'"
      ]
     },
     "execution_count": 16,
     "metadata": {},
     "output_type": "execute_result"
    }
   ],
   "source": [
    "pie_base().render('incident_sentiment_percent/school_open_sentiment.html')"
   ]
  },
  {
   "cell_type": "code",
   "execution_count": null,
   "metadata": {},
   "outputs": [],
   "source": []
  }
 ],
 "metadata": {
  "kernelspec": {
   "display_name": "Python 3",
   "language": "python",
   "name": "python3"
  },
  "language_info": {
   "codemirror_mode": {
    "name": "ipython",
    "version": 3
   },
   "file_extension": ".py",
   "mimetype": "text/x-python",
   "name": "python",
   "nbconvert_exporter": "python",
   "pygments_lexer": "ipython3",
   "version": "3.7.3"
  }
 },
 "nbformat": 4,
 "nbformat_minor": 2
}
