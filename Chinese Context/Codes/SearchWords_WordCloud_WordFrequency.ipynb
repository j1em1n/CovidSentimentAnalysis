{
 "cells": [
  {
   "cell_type": "code",
   "execution_count": 1,
   "metadata": {},
   "outputs": [],
   "source": [
    "import pandas as pd\n",
    "import jieba\n",
    "from wordcloud import WordCloud\n",
    "import matplotlib.pyplot as plt\n",
    "import imageio\n",
    "from collections import OrderedDict\n",
    "from pyecharts.charts import Bar"
   ]
  },
  {
   "cell_type": "code",
   "execution_count": 11,
   "metadata": {},
   "outputs": [
    {
     "data": {
      "text/html": [
       "<div>\n",
       "<style scoped>\n",
       "    .dataframe tbody tr th:only-of-type {\n",
       "        vertical-align: middle;\n",
       "    }\n",
       "\n",
       "    .dataframe tbody tr th {\n",
       "        vertical-align: top;\n",
       "    }\n",
       "\n",
       "    .dataframe thead th {\n",
       "        text-align: right;\n",
       "    }\n",
       "</style>\n",
       "<table border=\"1\" class=\"dataframe\">\n",
       "  <thead>\n",
       "    <tr style=\"text-align: right;\">\n",
       "      <th></th>\n",
       "      <th>content</th>\n",
       "      <th>end_time</th>\n",
       "      <th>start_time</th>\n",
       "      <th>volume</th>\n",
       "      <th>relevancy</th>\n",
       "    </tr>\n",
       "  </thead>\n",
       "  <tbody>\n",
       "    <tr>\n",
       "      <th>1</th>\n",
       "      <td>肖战工作室道歉</td>\n",
       "      <td>2/3/2020 14:00</td>\n",
       "      <td>1/3/2020 21:48</td>\n",
       "      <td>8580306</td>\n",
       "      <td>0</td>\n",
       "    </tr>\n",
       "    <tr>\n",
       "      <th>2</th>\n",
       "      <td>郑恺苗苗</td>\n",
       "      <td>10/3/2020 20:22</td>\n",
       "      <td>10/3/2020 10:42</td>\n",
       "      <td>6104855</td>\n",
       "      <td>0</td>\n",
       "    </tr>\n",
       "    <tr>\n",
       "      <th>3</th>\n",
       "      <td>唐艺昕肚子</td>\n",
       "      <td>16/3/2020 19:30</td>\n",
       "      <td>16/3/2020 11:26</td>\n",
       "      <td>5821712</td>\n",
       "      <td>0</td>\n",
       "    </tr>\n",
       "    <tr>\n",
       "      <th>4</th>\n",
       "      <td>张檬金恩圣公布恋情</td>\n",
       "      <td>20/3/2020 5:44</td>\n",
       "      <td>19/3/2020 10:06</td>\n",
       "      <td>5711930</td>\n",
       "      <td>0</td>\n",
       "    </tr>\n",
       "    <tr>\n",
       "      <th>5</th>\n",
       "      <td>刘真去世</td>\n",
       "      <td>23/3/2020 16:58</td>\n",
       "      <td>23/3/2020 10:44</td>\n",
       "      <td>5553134</td>\n",
       "      <td>0</td>\n",
       "    </tr>\n",
       "  </tbody>\n",
       "</table>\n",
       "</div>"
      ],
      "text/plain": [
       "     content         end_time       start_time   volume relevancy\n",
       "1    肖战工作室道歉   2/3/2020 14:00   1/3/2020 21:48  8580306         0\n",
       "2       郑恺苗苗  10/3/2020 20:22  10/3/2020 10:42  6104855         0\n",
       "3      唐艺昕肚子  16/3/2020 19:30  16/3/2020 11:26  5821712         0\n",
       "4  张檬金恩圣公布恋情   20/3/2020 5:44  19/3/2020 10:06  5711930         0\n",
       "5       刘真去世  23/3/2020 16:58  23/3/2020 10:44  5553134         0"
      ]
     },
     "execution_count": 11,
     "metadata": {},
     "output_type": "execute_result"
    }
   ],
   "source": [
    "#import data\n",
    "March_filtered = pd.read_csv('27MarTopTotalSearch.csv', names=['content','end_time','start_time','volume','relevancy'])\n",
    "March_filtered=March_filtered[1:]\n",
    "content=March_filtered['content']\n",
    "March_filtered.head()"
   ]
  },
  {
   "cell_type": "code",
   "execution_count": 12,
   "metadata": {},
   "outputs": [],
   "source": [
    "# combine content of cells into text string\n",
    "content_text = ''\n",
    "for i in content:\n",
    "    content_text += ''.join(i)\n"
   ]
  },
  {
   "cell_type": "code",
   "execution_count": 13,
   "metadata": {},
   "outputs": [
    {
     "name": "stderr",
     "output_type": "stream",
     "text": [
      "Building prefix dict from the default dictionary ...\n",
      "Loading model from cache C:\\Users\\Zhengnan\\AppData\\Local\\Temp\\jieba.cache\n",
      "Loading model cost 0.727 seconds.\n",
      "Prefix dict has been built succesfully.\n"
     ]
    }
   ],
   "source": [
    "# tokenlization\n",
    "words = jieba.lcut(content_text) \n",
    "word_string = \" \".join(words)\n",
    "\n",
    "#clean data with stop words\n",
    "stop_words = jieba.load_userdict(\"stop_words\") # load the file\n",
    "stopwords=pd.read_csv('stop_words',index_col=False,quoting=3,sep=\"\\t\",names=['stopword'], encoding='utf-8')\n",
    "stopwords=stopwords['stopword'].values\n",
    "stopwords = stopwords.tolist()\n",
    "# stopwords += ['新型','肺炎','一家','一架']  #manual update stop words\n"
   ]
  },
  {
   "cell_type": "code",
   "execution_count": 22,
   "metadata": {},
   "outputs": [],
   "source": [
    "# get words frequency for most frequent 10 words\n",
    "counts = {}\n",
    "for word in words:\n",
    "    if word not in stopwords and len(word)>1:\n",
    "        if len(word) == 1:    \n",
    "            continue\n",
    "        else:\n",
    "            counts[word] = counts.get(word, 0) + 1   \n",
    "\n",
    "ordered_counts = OrderedDict(sorted(counts.items(), key=lambda item: item[1],reverse=True)[:11])\n",
    "\n",
    "\n",
    "# seperate word with its frequency\n",
    "key_list = [key for key in ordered_counts] #words_list\n",
    "value_list = []                            #frequency list\n",
    "for key in key_list:\n",
    "    value_list.append(ordered_counts[key])\n"
   ]
  },
  {
   "cell_type": "code",
   "execution_count": 27,
   "metadata": {},
   "outputs": [
    {
     "data": {
      "text/plain": [
       "<wordcloud.wordcloud.WordCloud at 0x15bf9dbe320>"
      ]
     },
     "execution_count": 27,
     "metadata": {},
     "output_type": "execute_result"
    }
   ],
   "source": [
    "from pyecharts import options as opts\n",
    "#create bar chart for words frequency\n",
    "bar = (\n",
    "    Bar()\n",
    "    .add_xaxis(key_list)\n",
    "    .add_yaxis(\"frequency\", value_list, color= \"#5793f3\")\n",
    "    .set_global_opts(title_opts=opts.TitleOpts(title='Frequency of top search words For March'))\n",
    ")\n",
    "bar.render(\"Mar_topSearch.html\") #rename it\n",
    "\n",
    "# Create Word Cloud\n",
    "mk = imageio.imread(\"chinamap.png\")\n",
    "\n",
    "w = WordCloud(width=1000,\n",
    "                        height=700,\n",
    "                        background_color='white',\n",
    "                        font_path='msyh.ttc',\n",
    "                        mask=mk,\n",
    "                        stopwords={'新冠','肺炎','冠状病毒','病例','武汉','确诊'},\n",
    "                        scale=15)\n",
    "\n",
    "w.generate(word_string)\n",
    "w.to_file('March_filtered_wordcloud.png') #rename it"
   ]
  },
  {
   "cell_type": "code",
   "execution_count": null,
   "metadata": {},
   "outputs": [],
   "source": []
  }
 ],
 "metadata": {
  "kernelspec": {
   "display_name": "Python 3",
   "language": "python",
   "name": "python3"
  },
  "language_info": {
   "codemirror_mode": {
    "name": "ipython",
    "version": 3
   },
   "file_extension": ".py",
   "mimetype": "text/x-python",
   "name": "python",
   "nbconvert_exporter": "python",
   "pygments_lexer": "ipython3",
   "version": "3.7.3"
  }
 },
 "nbformat": 4,
 "nbformat_minor": 2
}
